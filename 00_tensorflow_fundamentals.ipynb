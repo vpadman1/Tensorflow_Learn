{
  "nbformat": 4,
  "nbformat_minor": 0,
  "metadata": {
    "colab": {
      "name": "00_tensorflow_fundamentals.ipynb",
      "provenance": [],
      "authorship_tag": "ABX9TyOmmmMXmTXDrDGzE7X1f7Hu",
      "include_colab_link": true
    },
    "kernelspec": {
      "name": "python3",
      "display_name": "Python 3"
    },
    "language_info": {
      "name": "python"
    },
    "accelerator": "TPU"
  },
  "cells": [
    {
      "cell_type": "markdown",
      "metadata": {
        "id": "view-in-github",
        "colab_type": "text"
      },
      "source": [
        "<a href=\"https://colab.research.google.com/github/vpadman1/Tensorflow_Learn/blob/main/00_tensorflow_fundamentals.ipynb\" target=\"_parent\"><img src=\"https://colab.research.google.com/assets/colab-badge.svg\" alt=\"Open In Colab\"/></a>"
      ]
    },
    {
      "cell_type": "markdown",
      "metadata": {
        "id": "pUuG_n06_ply"
      },
      "source": [
        "# In this notebook, we're going to cover some fundamentsl concept of tensor using tensorflow \n",
        "\n",
        "* Introduction to tensors \n",
        "* getting information from tensor\n",
        "* manipulating tensors\n",
        "* tensors and numpy\n",
        "* using @tf.function (a way to speed upyour regular python functions)\n",
        "* using GPUs with Tensorflow ( or TPU)\n",
        "* Exercise to try for yourself!"
      ]
    },
    {
      "cell_type": "code",
      "metadata": {
        "colab": {
          "base_uri": "https://localhost:8080/"
        },
        "id": "hTF2wvq2_RqW",
        "outputId": "2242652c-6971-484a-bb62-df577f25e887"
      },
      "source": [
        "# Import Tensorflow\n",
        "\n",
        "import tensorflow as tf\n",
        "print(tf.__version__)"
      ],
      "execution_count": 2,
      "outputs": [
        {
          "output_type": "stream",
          "text": [
            "2.4.1\n"
          ],
          "name": "stdout"
        }
      ]
    },
    {
      "cell_type": "code",
      "metadata": {
        "id": "CQQrbO5D_kD1"
      },
      "source": [
        ""
      ],
      "execution_count": null,
      "outputs": []
    }
  ]
}